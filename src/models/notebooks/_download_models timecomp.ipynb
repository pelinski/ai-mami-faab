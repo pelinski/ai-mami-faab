{
  "cells": [
    {
      "cell_type": "code",
      "execution_count": 1,
      "metadata": {},
      "outputs": [],
      "source": [
        "import wandb\n",
        "import json\n",
        "import os, sys\n",
        "sys.path.append(os.path.abspath(os.path.join(os.getcwd(), os.pardir, os.pardir)))\n",
        "from utils import _scale_params, load_config"
      ]
    },
    {
      "cell_type": "code",
      "execution_count": 2,
      "metadata": {},
      "outputs": [],
      "source": [
        "api = wandb.Api()\n",
        "api.entity = \"teresapelinski\"\n",
        "# faab_autoencoder_transformer/frraprup -- transformer\n",
        "# faab_autoencoder_transformer_time/ehdzqdop -- transformer time\n",
        "\n",
        "sweep_ids = [\"pdwxlf94\"]\n",
        "sweeps = [api.sweep(f'teresapelinski/faab_autoencoder_transformer_time_jan/{sweep}') for sweep in sweep_ids]\n",
        "\n",
        "_path = \"../../models/trained/transformer-autoencoder-timecomp-jan\"\n"
      ]
    },
    {
      "cell_type": "code",
      "execution_count": 3,
      "metadata": {},
      "outputs": [],
      "source": [
        "selected_runs = []\n",
        "for run in sweeps[0].runs:\n",
        "    loss = run.summary.get(\"train_loss\")\n",
        "    if loss < 0.014:\n",
        "        selected_runs.append(run)"
      ]
    },
    {
      "cell_type": "code",
      "execution_count": 4,
      "metadata": {},
      "outputs": [
        {
          "data": {
            "text/plain": [
              "[<Run teresapelinski/faab_autoencoder_transformer_time_jan/0daq0g9h (running)>,\n",
              " <Run teresapelinski/faab_autoencoder_transformer_time_jan/sys6hs5g (finished)>,\n",
              " <Run teresapelinski/faab_autoencoder_transformer_time_jan/8j4cqfd8 (finished)>]"
            ]
          },
          "execution_count": 4,
          "metadata": {},
          "output_type": "execute_result"
        }
      ],
      "source": [
        "selected_runs"
      ]
    },
    {
      "cell_type": "code",
      "execution_count": 5,
      "metadata": {},
      "outputs": [],
      "source": [
        "# finished_runs = []\n",
        "\n",
        "# # Iterate over runs in the sweep\n",
        "# for run in sweep.runs:\n",
        "#     # Fetch the run to get detailed information, including its state\n",
        "#     detailed_run = wandb.Api().run(f\"{run.project}/{run.id}\")\n",
        "#     # Check if the run is finished\n",
        "#     if detailed_run.state == \"finished\":\n",
        "#         finished_runs.append(detailed_run)\n"
      ]
    },
    {
      "cell_type": "code",
      "execution_count": 6,
      "metadata": {},
      "outputs": [],
      "source": [
        "# import os\n",
        "\n",
        "# #load api key from .env\n",
        "# with open(\"../.env\") as f:\n",
        "#     for line in f:\n",
        "#         if line.strip() and not line.startswith('#'):\n",
        "#             key, value = line.strip().split('=', 1)\n",
        "#             os.environ[key] = value\n"
      ]
    },
    {
      "cell_type": "code",
      "execution_count": 7,
      "metadata": {},
      "outputs": [],
      "source": [
        "# wandb.login(key=os.environ[\"WANDB_API_KEY\"])"
      ]
    },
    {
      "cell_type": "code",
      "execution_count": 8,
      "metadata": {},
      "outputs": [
        {
          "name": "stdout",
          "output_type": "stream",
          "text": [
            "0daq0g9h 125\n",
            "sys6hs5g 150\n",
            "8j4cqfd8 150\n"
          ]
        }
      ],
      "source": [
        "id_ep = {}\n",
        "run_ids = []\n",
        "for run in selected_runs:\n",
        "    files = [file.name for file in run.files()]\n",
        "    matching_files = [file for file in files if file.endswith(\".model\")]\n",
        "    epochs = [int(file.split(\"_\")[-1].split(\".model\")[0]) for file in matching_files]\n",
        "    if epochs == []:\n",
        "        continue\n",
        "    highest_epoch = max(epochs)\n",
        "    id_ep[run.id] = highest_epoch\n",
        "    run_ids.append(run.id)\n",
        "    print(run.id, highest_epoch)    \n",
        "    root_file_name = f'transformer_run_{run.id}_{highest_epoch}'\n",
        "    run.file(f'{root_file_name}.model').download(root=_path, exist_ok=True)\n",
        "    json.dump(run.config, open(f'{_path}/{root_file_name}.json', \"w\"))\n",
        "    json.dump({\"train_loss\": run.summary[\"train_loss\"]}, open(f'{_path}/{root_file_name}_metrics.json', \"w\"))\n",
        "\n",
        "json.dump(run_ids, open(f'{_path}/run_ids.json', \"w\"))"
      ]
    },
    {
      "cell_type": "code",
      "execution_count": 9,
      "metadata": {},
      "outputs": [],
      "source": [
        "json.dump(id_ep, open(f'{_path}/id_ep.json', \"w\"))"
      ]
    },
    {
      "cell_type": "code",
      "execution_count": 10,
      "metadata": {},
      "outputs": [],
      "source": [
        "_train_losses = {}\n",
        "for _id in run_ids:\n",
        "    _train_losses[_id] = json.load(open(f'{_path}/transformer_run_{_id}_{id_ep[_id]}_metrics.json'))[\"train_loss\"]\n",
        "\n",
        "models_ordered_by_asc_loss = list(dict(sorted(_train_losses.items(), key=lambda item: item[1])).keys())\n",
        "filename = _path + \"/models_ordered_by_asc_loss.json\"\n",
        "\n",
        "with open(filename, 'w') as file:\n",
        "    json.dump(models_ordered_by_asc_loss, file)"
      ]
    },
    {
      "cell_type": "code",
      "execution_count": 11,
      "metadata": {},
      "outputs": [],
      "source": [
        "scaled_model_coordinates = _scale_params(epochs=id_ep, path = _path)\n",
        "\n",
        "filename = _path + \"/scaled_params.json\"\n",
        "with open (filename, 'w') as file:\n",
        "    json.dump(scaled_model_coordinates, file)"
      ]
    },
    {
      "cell_type": "code",
      "execution_count": 12,
      "metadata": {},
      "outputs": [],
      "source": [
        "all_configs = {}\n",
        "for run in run_ids:\n",
        "    config = load_config(run, epochs=id_ep[run],path=_path)\n",
        "    all_configs[run] = config\n",
        "    \n",
        "    "
      ]
    },
    {
      "cell_type": "code",
      "execution_count": 13,
      "metadata": {},
      "outputs": [
        {
          "data": {
            "text/plain": [
              "{'0daq0g9h': {'mask': False,\n",
              "  'pred': False,\n",
              "  'model': 'transformer',\n",
              "  'device': 'cuda:0',\n",
              "  'epochs': 150,\n",
              "  'dropout': 0.25875870056013905,\n",
              "  'project': 'faab_autoencoder_transformer',\n",
              "  'seq_len': 1024,\n",
              "  'feat_len': 8,\n",
              "  'criterion': 'weighted_mse',\n",
              "  'num_heads': 2,\n",
              "  'optimizer': 'rmsprop',\n",
              "  'batch_size': 64,\n",
              "  'num_layers': 1,\n",
              "  'pickle_path': 'src/dataset/data/0117/0117_processed_1024.pkl',\n",
              "  'comp_seq_len': 128,\n",
              "  'ff_size_time': 1024,\n",
              "  'weights_path': 'src/dataset/data/0117/weights.pkl',\n",
              "  'comp_feat_len': 4,\n",
              "  'learning_rate': 0.000224782346487706,\n",
              "  'max_grad_norm': 0,\n",
              "  'pe_scale_factor': 1,\n",
              "  'plotter_samples': 5,\n",
              "  'scheduler_gamma': 0.1,\n",
              "  'ff_size_features': 64,\n",
              "  'num_encoder_layers': 7,\n",
              "  'scheduler_step_size': 0},\n",
              " 'sys6hs5g': {'mask': False,\n",
              "  'pred': False,\n",
              "  'model': 'transformer',\n",
              "  'device': 'cuda:0',\n",
              "  'epochs': 150,\n",
              "  'dropout': 0.1862820635724552,\n",
              "  'project': 'faab_autoencoder_transformer',\n",
              "  'seq_len': 1024,\n",
              "  'feat_len': 8,\n",
              "  'criterion': 'weighted_mse',\n",
              "  'num_heads': 2,\n",
              "  'optimizer': 'rmsprop',\n",
              "  'batch_size': 64,\n",
              "  'num_layers': 1,\n",
              "  'pickle_path': 'src/dataset/data/0117/0117_processed_1024.pkl',\n",
              "  'comp_seq_len': 256,\n",
              "  'ff_size_time': 512,\n",
              "  'weights_path': 'src/dataset/data/0117/weights.pkl',\n",
              "  'comp_feat_len': 4,\n",
              "  'learning_rate': 0.0002320145908013096,\n",
              "  'max_grad_norm': 0,\n",
              "  'pe_scale_factor': 1,\n",
              "  'plotter_samples': 5,\n",
              "  'scheduler_gamma': 0.1,\n",
              "  'ff_size_features': 8,\n",
              "  'num_encoder_layers': 7,\n",
              "  'scheduler_step_size': 0},\n",
              " '8j4cqfd8': {'mask': False,\n",
              "  'pred': False,\n",
              "  'model': 'transformer',\n",
              "  'device': 'cuda:0',\n",
              "  'epochs': 150,\n",
              "  'dropout': 0.17842632989423046,\n",
              "  'project': 'faab_autoencoder_transformer',\n",
              "  'seq_len': 1024,\n",
              "  'feat_len': 8,\n",
              "  'criterion': 'weighted_mse',\n",
              "  'num_heads': 2,\n",
              "  'optimizer': 'rmsprop',\n",
              "  'batch_size': 64,\n",
              "  'num_layers': 1,\n",
              "  'pickle_path': 'src/dataset/data/0117/0117_processed_1024.pkl',\n",
              "  'comp_seq_len': 128,\n",
              "  'ff_size_time': 1024,\n",
              "  'weights_path': 'src/dataset/data/0117/weights.pkl',\n",
              "  'comp_feat_len': 4,\n",
              "  'learning_rate': 0.0004326447935396546,\n",
              "  'max_grad_norm': 0,\n",
              "  'pe_scale_factor': 1,\n",
              "  'plotter_samples': 5,\n",
              "  'scheduler_gamma': 0.1,\n",
              "  'ff_size_features': 8,\n",
              "  'num_encoder_layers': 7,\n",
              "  'scheduler_step_size': 0}}"
            ]
          },
          "execution_count": 13,
          "metadata": {},
          "output_type": "execute_result"
        }
      ],
      "source": [
        "all_configs"
      ]
    },
    {
      "cell_type": "code",
      "execution_count": null,
      "metadata": {},
      "outputs": [],
      "source": []
    }
  ],
  "metadata": {
    "kernelspec": {
      "display_name": "faab-uzUOpGyK",
      "language": "python",
      "name": "python3"
    },
    "language_info": {
      "codemirror_mode": {
        "name": "ipython",
        "version": 3
      },
      "file_extension": ".py",
      "mimetype": "text/x-python",
      "name": "python",
      "nbconvert_exporter": "python",
      "pygments_lexer": "ipython3",
      "version": "3.9.21"
    }
  },
  "nbformat": 4,
  "nbformat_minor": 2
}
