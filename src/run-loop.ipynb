{
 "cells": [
  {
   "cell_type": "code",
   "execution_count": null,
   "metadata": {},
   "outputs": [],
   "source": [
    "import ipywidgets as widgets\n",
    "from IPython.display import display\n",
    "from pybela import Streamer\n",
    "import biquad\n",
    "from callback import callback, CallbackState"
   ]
  },
  {
   "cell_type": "code",
   "execution_count": null,
   "metadata": {},
   "outputs": [],
   "source": [
    "vars = ['gFaabSensor_1', 'gFaabSensor_2', 'gFaabSensor_3', 'gFaabSensor_4', 'gFaabSensor_5', 'gFaabSensor_6', 'gFaabSensor_7', 'gFaabSensor_8']\n",
    "\n",
    "streamer = Streamer()\n",
    "streamer.connect()"
   ]
  },
  {
   "cell_type": "code",
   "execution_count": null,
   "metadata": {},
   "outputs": [],
   "source": [
    "cs = CallbackState(\n",
    "    seq_len=512,\n",
    "    num_models=20,\n",
    "    num_blocks_to_compute_avg=10,\n",
    "    num_blocks_to_compute_std=40,\n",
    "    filter=biquad.lowpass(sr=streamer.sample_rate, f=1, q=0.707),\n",
    "    num_of_iterations_in_this_model_check=20,\n",
    "    init_ratio_rising_threshold=2.5,\n",
    "    init_ratio_falling_threshold=1.3,\n",
    "    threshold_leak=0.1,\n",
    "    trigger_width=25,\n",
    "    trigger_idx=4,\n",
    "    running_norm=True,\n",
    "    permute_out=False,\n",
    "    path=\"models/trained\"\n",
    ")"
   ]
  },
  {
   "cell_type": "code",
   "execution_count": null,
   "metadata": {},
   "outputs": [],
   "source": [
    "streamer.start_streaming(vars, on_block_callback=callback, callback_args=(cs,streamer))"
   ]
  },
  {
   "cell_type": "code",
   "execution_count": null,
   "metadata": {},
   "outputs": [],
   "source": [
    "streamer.stop_streaming()"
   ]
  },
  {
   "cell_type": "code",
   "execution_count": null,
   "metadata": {},
   "outputs": [],
   "source": [
    "# Create sliders using values from 'gain' list\n",
    "gain_sliders = [widgets.FloatSlider(value=gain[i], min=0.0, max=2.0, step=0.01, description=f'Gain {i+1}') for i in range(len(gain))]\n",
    "\n",
    "# Update function to adjust gain parameters\n",
    "def update_gain(change):\n",
    "    global gain\n",
    "    gain = [slider.value for slider in gain_sliders]\n",
    "    # Optional: Call a function here to apply the new gain values immediately\n",
    "\n",
    "# Display widgets and link them to the update function\n",
    "slider_box = widgets.VBox([widgets.Label('Adjust Gain Parameters:')] + gain_sliders)"
   ]
  },
  {
   "cell_type": "code",
   "execution_count": null,
   "metadata": {},
   "outputs": [],
   "source": [
    "display(slider_box)\n",
    "\n",
    "for slider in gain_sliders:\n",
    "    slider.observe(update_gain, names='value')"
   ]
  },
  {
   "cell_type": "markdown",
   "metadata": {},
   "source": [
    "# plot"
   ]
  },
  {
   "cell_type": "code",
   "execution_count": null,
   "metadata": {},
   "outputs": [],
   "source": [
    "import os\n",
    "import bokeh\n",
    "import bokeh.plotting\n",
    "import bokeh.io\n",
    "import bokeh.driving\n",
    "from bokeh.resources import INLINE\n",
    "\n",
    "os.environ[\"BOKEH_ALLOW_WS_ORIGIN\"]=\"0j0t0jnmqu776ei6png0k89bho2qg0m6ia345511p3uleiqq2kep\""
   ]
  },
  {
   "cell_type": "code",
   "execution_count": null,
   "metadata": {},
   "outputs": [],
   "source": [
    "streamer.start_streaming(variables=[\"gFaabSensor_1\", \"gFaabSensor_2\"])"
   ]
  },
  {
   "cell_type": "code",
   "execution_count": null,
   "metadata": {},
   "outputs": [],
   "source": [
    "streamer.plot_data(x_var=\"gFaabSensor_1\", y_vars=[\"gFaabSensor_1\", \"gFaabSensor_2\"], y_range=[0, 1], rollover=10000)"
   ]
  },
  {
   "cell_type": "code",
   "execution_count": null,
   "metadata": {},
   "outputs": [],
   "source": [
    "plot_data = {\n",
    "    \n",
    "    \"out_1\": {\"timestamps\": [0,1,2], \"data\" : [0.1, 0.2, 0.3]},\n",
    "    \"out_2\": {\"timestamps\": [0,1,2], \"data\" : [0.1, 0.2, 0.3]},\n",
    "}"
   ]
  },
  {
   "cell_type": "code",
   "execution_count": null,
   "metadata": {},
   "outputs": [],
   "source": [
    "from itertools import cycle\n",
    "import asyncio\n",
    "\n",
    "def _bokeh_plot_data_app(\n",
    "                            data,\n",
    "                            x_var,\n",
    "                            y_vars,\n",
    "                            y_range=None,\n",
    "                            rollover=None,\n",
    "                            plot_update_delay=90):\n",
    "\n",
    "    def _app(doc):\n",
    "        # Instantiate figures\n",
    "        p = bokeh.plotting.figure(\n",
    "            frame_width=500,\n",
    "            frame_height=175,\n",
    "            x_axis_label=\"timestamps\",\n",
    "            y_axis_label=\"value\",\n",
    "        )\n",
    "\n",
    "        if y_range is not None:\n",
    "            p.y_range = bokeh.models.Range1d(y_range[0], y_range[1])\n",
    "\n",
    "        # No padding on x_range makes data flush with end of plot\n",
    "        p.x_range.range_padding = 0\n",
    "\n",
    "        # Create a dictionary to store ColumnDataSource instances for each y_var\n",
    "        template = {\"timestamps\": [], **{var: [] for var in data}}\n",
    "        source = bokeh.models.ColumnDataSource(template)\n",
    "\n",
    "        # # Create line glyphs for each y_var\n",
    "        colors = cycle([\n",
    "            \"#1f77b4\", \"#ff7f0e\", \"#2ca02c\", \"#d62728\",\n",
    "            \"#9467bd\", \"#8c564b\", \"#e377c2\", \"#7f7f7f\",\n",
    "            \"#bcbd22\", \"#17becf\", \"#1a55FF\", \"#FF1A1A\"\n",
    "        ])\n",
    "        for y_var in y_vars:\n",
    "            p.line(source=source, x=\"timestamps\",\n",
    "                    y=y_var, line_color=next(colors), legend_label=y_var)\n",
    "\n",
    "        @bokeh.driving.linear()\n",
    "        def update(step):\n",
    "            # Update plot by streaming in data\n",
    "            new_data = {\"timestamps\": [\n",
    "                data[x_var][\"timestamp\"]]if \"timestamp\" in data[x_var] else data[x_var][\"timestamps\"]}\n",
    "            for y_var in y_vars:\n",
    "                new_data[y_var] = data[y_var][\"data\"] if isinstance(\n",
    "                    data[y_var][\"data\"], list) else [data[y_var][\"data\"]]\n",
    "            source.stream(new_data, rollover)\n",
    "\n",
    "        doc.add_root(p)\n",
    "        doc.add_periodic_callback(update, plot_update_delay)\n",
    "    return _app\n",
    "\n",
    "def plot_data( x_var, y_vars, y_range=None, plot_update_delay=100, rollover=500):\n",
    "\n",
    "    # wait until streaming buffers have been populated\n",
    "    async def wait_for_streaming_buffers_to_arrive():\n",
    "        while not all(data['data'] for data in {\n",
    "                var: _buffer for var, _buffer in last_streamed_buffer.items() if var in y_vars}.values()):\n",
    "            await asyncio.sleep(0.1)\n",
    "    asyncio.run(wait_for_streaming_buffers_to_arrive())\n",
    "\n",
    "    bokeh.io.output_notebook(INLINE)\n",
    "    bokeh.io.show(_bokeh_plot_data_app(data={\n",
    "        var: _buffer for var, _buffer in last_streamed_buffer.items() if var in y_vars}, x_var=x_var,\n",
    "        y_vars=y_vars, y_range=y_range, plot_update_delay=plot_update_delay, rollover=rollover))\n"
   ]
  },
  {
   "cell_type": "code",
   "execution_count": null,
   "metadata": {},
   "outputs": [],
   "source": [
    "plot_data(x_var=\"gFaabSensor_1\", y_vars=[\"gFaabSensor_1\", \"gFaabSensor_2\"], y_range=[0, 1], rollover=10000)"
   ]
  },
  {
   "cell_type": "code",
   "execution_count": null,
   "metadata": {},
   "outputs": [],
   "source": [
    "streamer.stop_streaming()"
   ]
  }
 ],
 "metadata": {
  "kernelspec": {
   "display_name": "faab-uzUOpGyK",
   "language": "python",
   "name": "python3"
  },
  "language_info": {
   "codemirror_mode": {
    "name": "ipython",
    "version": 3
   },
   "file_extension": ".py",
   "mimetype": "text/x-python",
   "name": "python",
   "nbconvert_exporter": "python",
   "pygments_lexer": "ipython3",
   "version": "3.9.19"
  }
 },
 "nbformat": 4,
 "nbformat_minor": 2
}
