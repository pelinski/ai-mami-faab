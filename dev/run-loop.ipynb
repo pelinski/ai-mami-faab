{
 "cells": [
  {
   "cell_type": "code",
   "execution_count": 3,
   "metadata": {},
   "outputs": [],
   "source": [
    "import ipywidgets as widgets\n",
    "from IPython.display import display\n",
    "from pybela import Streamer\n",
    "import biquad\n",
    "from callback import callback, CallbackState"
   ]
  },
  {
   "cell_type": "code",
   "execution_count": 4,
   "metadata": {},
   "outputs": [
    {
     "name": "stderr",
     "output_type": "stream",
     "text": [
      "Task exception was never retrieved\n",
      "future: <Task finished name='Task-7' coro=<Watcher._start_listener.<locals>._async_start_listener() done, defined at /Users/teresapelinski/.local/share/virtualenvs/faab-ECLAI4QK/lib/python3.9/site-packages/pybela/Watcher.py:214> exception=AttributeError(\"'ClientConnection' object has no attribute 'open'\")>\n",
      "Traceback (most recent call last):\n",
      "  File \"/Users/teresapelinski/.local/share/virtualenvs/faab-ECLAI4QK/lib/python3.9/site-packages/pybela/Watcher.py\", line 216, in _async_start_listener\n",
      "    while ws is not None and ws.open:\n",
      "AttributeError: 'ClientConnection' object has no attribute 'open'\n",
      "\n",
      "During handling of the above exception, another exception occurred:\n",
      "\n",
      "Traceback (most recent call last):\n",
      "  File \"/Users/teresapelinski/miniconda3/lib/python3.9/asyncio/tasks.py\", line 256, in __step\n",
      "    result = coro.send(None)\n",
      "  File \"/Users/teresapelinski/.local/share/virtualenvs/faab-ECLAI4QK/lib/python3.9/site-packages/pybela/Watcher.py\", line 227, in _async_start_listener\n",
      "    if ws.open:  # otherwise websocket was closed intentionally\n",
      "AttributeError: 'ClientConnection' object has no attribute 'open'\n",
      "Task exception was never retrieved\n",
      "future: <Task finished name='Task-8' coro=<Watcher._start_listener.<locals>._async_start_listener() done, defined at /Users/teresapelinski/.local/share/virtualenvs/faab-ECLAI4QK/lib/python3.9/site-packages/pybela/Watcher.py:214> exception=AttributeError(\"'ClientConnection' object has no attribute 'open'\")>\n",
      "Traceback (most recent call last):\n",
      "  File \"/Users/teresapelinski/.local/share/virtualenvs/faab-ECLAI4QK/lib/python3.9/site-packages/pybela/Watcher.py\", line 216, in _async_start_listener\n",
      "    while ws is not None and ws.open:\n",
      "AttributeError: 'ClientConnection' object has no attribute 'open'\n",
      "\n",
      "During handling of the above exception, another exception occurred:\n",
      "\n",
      "Traceback (most recent call last):\n",
      "  File \"/Users/teresapelinski/miniconda3/lib/python3.9/asyncio/tasks.py\", line 256, in __step\n",
      "    result = coro.send(None)\n",
      "  File \"/Users/teresapelinski/.local/share/virtualenvs/faab-ECLAI4QK/lib/python3.9/site-packages/pybela/Watcher.py\", line 227, in _async_start_listener\n",
      "    if ws.open:  # otherwise websocket was closed intentionally\n",
      "AttributeError: 'ClientConnection' object has no attribute 'open'\n"
     ]
    },
    {
     "name": "stdout",
     "output_type": "stream",
     "text": [
      "\u001b[91mWebSocket exception while connecting to ws://192.168.7.2:5555/gui_control: 'ClientConnection' object has no attribute 'open'.  Make sure Bela is connected to the same network as your computer, that the IP address is correct, and that there is a project running on Bela.\u001b[0m\n",
      "\u001b[91mError while sending message: 'ClientConnection' object has no attribute 'open'.  Make sure Bela is connected to the same network as your computer, that the IP address is correct, and that there is a project running on Bela.\u001b[0m\n",
      "\u001b[91mWebSocket exception while connecting to ws://192.168.7.2:5555/gui_control: 'ClientConnection' object has no attribute 'open'.  Make sure Bela is connected to the same network as your computer, that the IP address is correct, and that there is a project running on Bela.\u001b[0m\n",
      "\u001b[91mError while sending message: 'ClientConnection' object has no attribute 'open'.  Make sure Bela is connected to the same network as your computer, that the IP address is correct, and that there is a project running on Bela.\u001b[0m\n"
     ]
    },
    {
     "ename": "KeyboardInterrupt",
     "evalue": "",
     "output_type": "error",
     "traceback": [
      "\u001b[0;31m---------------------------------------------------------------------------\u001b[0m",
      "\u001b[0;31mKeyboardInterrupt\u001b[0m                         Traceback (most recent call last)",
      "Cell \u001b[0;32mIn[4], line 4\u001b[0m\n\u001b[1;32m      1\u001b[0m \u001b[38;5;28mvars\u001b[39m \u001b[38;5;241m=\u001b[39m [\u001b[38;5;124m'\u001b[39m\u001b[38;5;124mgFaabSensor_1\u001b[39m\u001b[38;5;124m'\u001b[39m, \u001b[38;5;124m'\u001b[39m\u001b[38;5;124mgFaabSensor_2\u001b[39m\u001b[38;5;124m'\u001b[39m, \u001b[38;5;124m'\u001b[39m\u001b[38;5;124mgFaabSensor_3\u001b[39m\u001b[38;5;124m'\u001b[39m, \u001b[38;5;124m'\u001b[39m\u001b[38;5;124mgFaabSensor_4\u001b[39m\u001b[38;5;124m'\u001b[39m, \u001b[38;5;124m'\u001b[39m\u001b[38;5;124mgFaabSensor_5\u001b[39m\u001b[38;5;124m'\u001b[39m, \u001b[38;5;124m'\u001b[39m\u001b[38;5;124mgFaabSensor_6\u001b[39m\u001b[38;5;124m'\u001b[39m, \u001b[38;5;124m'\u001b[39m\u001b[38;5;124mgFaabSensor_7\u001b[39m\u001b[38;5;124m'\u001b[39m, \u001b[38;5;124m'\u001b[39m\u001b[38;5;124mgFaabSensor_8\u001b[39m\u001b[38;5;124m'\u001b[39m]\n\u001b[1;32m      3\u001b[0m streamer \u001b[38;5;241m=\u001b[39m Streamer()\n\u001b[0;32m----> 4\u001b[0m \u001b[43mstreamer\u001b[49m\u001b[38;5;241;43m.\u001b[39;49m\u001b[43mconnect\u001b[49m\u001b[43m(\u001b[49m\u001b[43m)\u001b[49m\n",
      "File \u001b[0;32m~/.local/share/virtualenvs/faab-ECLAI4QK/lib/python3.9/site-packages/pybela/Watcher.py:163\u001b[0m, in \u001b[0;36mWatcher.connect\u001b[0;34m(self)\u001b[0m\n\u001b[1;32m    160\u001b[0m     \u001b[38;5;28;01mexcept\u001b[39;00m \u001b[38;5;167;01mException\u001b[39;00m \u001b[38;5;28;01mas\u001b[39;00m e:\n\u001b[1;32m    161\u001b[0m         \u001b[38;5;28;01mraise\u001b[39;00m \u001b[38;5;167;01mConnectionError\u001b[39;00m(\u001b[38;5;124mf\u001b[39m\u001b[38;5;124m\"\u001b[39m\u001b[38;5;124mConnection failed: \u001b[39m\u001b[38;5;132;01m{\u001b[39;00m\u001b[38;5;28mstr\u001b[39m(e)\u001b[38;5;132;01m}\u001b[39;00m\u001b[38;5;124m.\u001b[39m\u001b[38;5;124m\"\u001b[39m)\n\u001b[0;32m--> 163\u001b[0m \u001b[38;5;28;01mreturn\u001b[39;00m \u001b[43masyncio\u001b[49m\u001b[38;5;241;43m.\u001b[39;49m\u001b[43mrun\u001b[49m\u001b[43m(\u001b[49m\u001b[43m_async_connect\u001b[49m\u001b[43m(\u001b[49m\u001b[43m)\u001b[49m\u001b[43m)\u001b[49m\n",
      "File \u001b[0;32m~/.local/share/virtualenvs/faab-ECLAI4QK/lib/python3.9/site-packages/nest_asyncio.py:30\u001b[0m, in \u001b[0;36m_patch_asyncio.<locals>.run\u001b[0;34m(main, debug)\u001b[0m\n\u001b[1;32m     28\u001b[0m task \u001b[38;5;241m=\u001b[39m asyncio\u001b[38;5;241m.\u001b[39mensure_future(main)\n\u001b[1;32m     29\u001b[0m \u001b[38;5;28;01mtry\u001b[39;00m:\n\u001b[0;32m---> 30\u001b[0m     \u001b[38;5;28;01mreturn\u001b[39;00m \u001b[43mloop\u001b[49m\u001b[38;5;241;43m.\u001b[39;49m\u001b[43mrun_until_complete\u001b[49m\u001b[43m(\u001b[49m\u001b[43mtask\u001b[49m\u001b[43m)\u001b[49m\n\u001b[1;32m     31\u001b[0m \u001b[38;5;28;01mfinally\u001b[39;00m:\n\u001b[1;32m     32\u001b[0m     \u001b[38;5;28;01mif\u001b[39;00m \u001b[38;5;129;01mnot\u001b[39;00m task\u001b[38;5;241m.\u001b[39mdone():\n",
      "File \u001b[0;32m~/.local/share/virtualenvs/faab-ECLAI4QK/lib/python3.9/site-packages/nest_asyncio.py:92\u001b[0m, in \u001b[0;36m_patch_loop.<locals>.run_until_complete\u001b[0;34m(self, future)\u001b[0m\n\u001b[1;32m     90\u001b[0m     f\u001b[38;5;241m.\u001b[39m_log_destroy_pending \u001b[38;5;241m=\u001b[39m \u001b[38;5;28;01mFalse\u001b[39;00m\n\u001b[1;32m     91\u001b[0m \u001b[38;5;28;01mwhile\u001b[39;00m \u001b[38;5;129;01mnot\u001b[39;00m f\u001b[38;5;241m.\u001b[39mdone():\n\u001b[0;32m---> 92\u001b[0m     \u001b[38;5;28;43mself\u001b[39;49m\u001b[38;5;241;43m.\u001b[39;49m\u001b[43m_run_once\u001b[49m\u001b[43m(\u001b[49m\u001b[43m)\u001b[49m\n\u001b[1;32m     93\u001b[0m     \u001b[38;5;28;01mif\u001b[39;00m \u001b[38;5;28mself\u001b[39m\u001b[38;5;241m.\u001b[39m_stopping:\n\u001b[1;32m     94\u001b[0m         \u001b[38;5;28;01mbreak\u001b[39;00m\n",
      "File \u001b[0;32m~/.local/share/virtualenvs/faab-ECLAI4QK/lib/python3.9/site-packages/nest_asyncio.py:133\u001b[0m, in \u001b[0;36m_patch_loop.<locals>._run_once\u001b[0;34m(self)\u001b[0m\n\u001b[1;32m    130\u001b[0m curr_task \u001b[38;5;241m=\u001b[39m curr_tasks\u001b[38;5;241m.\u001b[39mpop(\u001b[38;5;28mself\u001b[39m, \u001b[38;5;28;01mNone\u001b[39;00m)\n\u001b[1;32m    132\u001b[0m \u001b[38;5;28;01mtry\u001b[39;00m:\n\u001b[0;32m--> 133\u001b[0m     \u001b[43mhandle\u001b[49m\u001b[38;5;241;43m.\u001b[39;49m\u001b[43m_run\u001b[49m\u001b[43m(\u001b[49m\u001b[43m)\u001b[49m\n\u001b[1;32m    134\u001b[0m \u001b[38;5;28;01mfinally\u001b[39;00m:\n\u001b[1;32m    135\u001b[0m     \u001b[38;5;66;03m# restore the current task\u001b[39;00m\n\u001b[1;32m    136\u001b[0m     \u001b[38;5;28;01mif\u001b[39;00m curr_task \u001b[38;5;129;01mis\u001b[39;00m \u001b[38;5;129;01mnot\u001b[39;00m \u001b[38;5;28;01mNone\u001b[39;00m:\n",
      "File \u001b[0;32m~/miniconda3/lib/python3.9/asyncio/events.py:80\u001b[0m, in \u001b[0;36mHandle._run\u001b[0;34m(self)\u001b[0m\n\u001b[1;32m     78\u001b[0m \u001b[38;5;28;01mdef\u001b[39;00m \u001b[38;5;21m_run\u001b[39m(\u001b[38;5;28mself\u001b[39m):\n\u001b[1;32m     79\u001b[0m     \u001b[38;5;28;01mtry\u001b[39;00m:\n\u001b[0;32m---> 80\u001b[0m         \u001b[38;5;28;43mself\u001b[39;49m\u001b[38;5;241;43m.\u001b[39;49m\u001b[43m_context\u001b[49m\u001b[38;5;241;43m.\u001b[39;49m\u001b[43mrun\u001b[49m\u001b[43m(\u001b[49m\u001b[38;5;28;43mself\u001b[39;49m\u001b[38;5;241;43m.\u001b[39;49m\u001b[43m_callback\u001b[49m\u001b[43m,\u001b[49m\u001b[43m \u001b[49m\u001b[38;5;241;43m*\u001b[39;49m\u001b[38;5;28;43mself\u001b[39;49m\u001b[38;5;241;43m.\u001b[39;49m\u001b[43m_args\u001b[49m\u001b[43m)\u001b[49m\n\u001b[1;32m     81\u001b[0m     \u001b[38;5;28;01mexcept\u001b[39;00m (\u001b[38;5;167;01mSystemExit\u001b[39;00m, \u001b[38;5;167;01mKeyboardInterrupt\u001b[39;00m):\n\u001b[1;32m     82\u001b[0m         \u001b[38;5;28;01mraise\u001b[39;00m\n",
      "File \u001b[0;32m~/miniconda3/lib/python3.9/asyncio/tasks.py:339\u001b[0m, in \u001b[0;36mTask.__wakeup\u001b[0;34m(self, future)\u001b[0m\n\u001b[1;32m    331\u001b[0m     \u001b[38;5;28mself\u001b[39m\u001b[38;5;241m.\u001b[39m__step(exc)\n\u001b[1;32m    332\u001b[0m \u001b[38;5;28;01melse\u001b[39;00m:\n\u001b[1;32m    333\u001b[0m     \u001b[38;5;66;03m# Don't pass the value of `future.result()` explicitly,\u001b[39;00m\n\u001b[1;32m    334\u001b[0m     \u001b[38;5;66;03m# as `Future.__iter__` and `Future.__await__` don't need it.\u001b[39;00m\n\u001b[0;32m   (...)\u001b[0m\n\u001b[1;32m    337\u001b[0m     \u001b[38;5;66;03m# instead of `__next__()`, which is slower for futures\u001b[39;00m\n\u001b[1;32m    338\u001b[0m     \u001b[38;5;66;03m# that return non-generator iterators from their `__iter__`.\u001b[39;00m\n\u001b[0;32m--> 339\u001b[0m     \u001b[38;5;28;43mself\u001b[39;49m\u001b[38;5;241;43m.\u001b[39;49m\u001b[43m__step\u001b[49m\u001b[43m(\u001b[49m\u001b[43m)\u001b[49m\n\u001b[1;32m    340\u001b[0m \u001b[38;5;28mself\u001b[39m \u001b[38;5;241m=\u001b[39m \u001b[38;5;28;01mNone\u001b[39;00m\n",
      "File \u001b[0;32m~/miniconda3/lib/python3.9/asyncio/tasks.py:256\u001b[0m, in \u001b[0;36mTask.__step\u001b[0;34m(***failed resolving arguments***)\u001b[0m\n\u001b[1;32m    252\u001b[0m \u001b[38;5;28;01mtry\u001b[39;00m:\n\u001b[1;32m    253\u001b[0m     \u001b[38;5;28;01mif\u001b[39;00m exc \u001b[38;5;129;01mis\u001b[39;00m \u001b[38;5;28;01mNone\u001b[39;00m:\n\u001b[1;32m    254\u001b[0m         \u001b[38;5;66;03m# We use the `send` method directly, because coroutines\u001b[39;00m\n\u001b[1;32m    255\u001b[0m         \u001b[38;5;66;03m# don't have `__iter__` and `__next__` methods.\u001b[39;00m\n\u001b[0;32m--> 256\u001b[0m         result \u001b[38;5;241m=\u001b[39m \u001b[43mcoro\u001b[49m\u001b[38;5;241;43m.\u001b[39;49m\u001b[43msend\u001b[49m\u001b[43m(\u001b[49m\u001b[38;5;28;43;01mNone\u001b[39;49;00m\u001b[43m)\u001b[49m\n\u001b[1;32m    257\u001b[0m     \u001b[38;5;28;01melse\u001b[39;00m:\n\u001b[1;32m    258\u001b[0m         result \u001b[38;5;241m=\u001b[39m coro\u001b[38;5;241m.\u001b[39mthrow(exc)\n",
      "File \u001b[0;32m~/.local/share/virtualenvs/faab-ECLAI4QK/lib/python3.9/site-packages/pybela/Watcher.py:151\u001b[0m, in \u001b[0;36mWatcher.connect.<locals>._async_connect\u001b[0;34m()\u001b[0m\n\u001b[1;32m    148\u001b[0m \u001b[38;5;28mself\u001b[39m\u001b[38;5;241m.\u001b[39m_start_listener(\u001b[38;5;28mself\u001b[39m\u001b[38;5;241m.\u001b[39mws_data, \u001b[38;5;28mself\u001b[39m\u001b[38;5;241m.\u001b[39mws_data_add)\n\u001b[1;32m    150\u001b[0m \u001b[38;5;66;03m# refresh watcher vars in case new project has been loaded in Bela\u001b[39;00m\n\u001b[0;32m--> 151\u001b[0m \u001b[38;5;28mself\u001b[39m\u001b[38;5;241m.\u001b[39m_list \u001b[38;5;241m=\u001b[39m \u001b[38;5;28;43mself\u001b[39;49m\u001b[38;5;241;43m.\u001b[39;49m\u001b[43mlist\u001b[49m\u001b[43m(\u001b[49m\u001b[43m)\u001b[49m\n\u001b[1;32m    152\u001b[0m \u001b[38;5;28mself\u001b[39m\u001b[38;5;241m.\u001b[39m_sample_rate \u001b[38;5;241m=\u001b[39m \u001b[38;5;28mself\u001b[39m\u001b[38;5;241m.\u001b[39m_list[\u001b[38;5;124m\"\u001b[39m\u001b[38;5;124msampleRate\u001b[39m\u001b[38;5;124m\"\u001b[39m]\n\u001b[1;32m    153\u001b[0m \u001b[38;5;28mself\u001b[39m\u001b[38;5;241m.\u001b[39m_watcher_vars \u001b[38;5;241m=\u001b[39m \u001b[38;5;28mself\u001b[39m\u001b[38;5;241m.\u001b[39m_filtered_watcher_vars(\u001b[38;5;28mself\u001b[39m\u001b[38;5;241m.\u001b[39m_list[\u001b[38;5;124m\"\u001b[39m\u001b[38;5;124mwatchers\u001b[39m\u001b[38;5;124m\"\u001b[39m],\n\u001b[1;32m    154\u001b[0m                                                  \u001b[38;5;28;01mlambda\u001b[39;00m var: \u001b[38;5;28;01mTrue\u001b[39;00m)\n",
      "File \u001b[0;32m~/.local/share/virtualenvs/faab-ECLAI4QK/lib/python3.9/site-packages/pybela/Watcher.py:193\u001b[0m, in \u001b[0;36mWatcher.list\u001b[0;34m(self)\u001b[0m\n\u001b[1;32m    190\u001b[0m     \u001b[38;5;28mself\u001b[39m\u001b[38;5;241m.\u001b[39m_list_response_queue\u001b[38;5;241m.\u001b[39mtask_done()\n\u001b[1;32m    191\u001b[0m     \u001b[38;5;28;01mreturn\u001b[39;00m list_res\n\u001b[0;32m--> 193\u001b[0m \u001b[38;5;28;01mreturn\u001b[39;00m \u001b[43masyncio\u001b[49m\u001b[38;5;241;43m.\u001b[39;49m\u001b[43mrun\u001b[49m\u001b[43m(\u001b[49m\u001b[43m_async_list\u001b[49m\u001b[43m(\u001b[49m\u001b[43m)\u001b[49m\u001b[43m)\u001b[49m\n",
      "File \u001b[0;32m~/.local/share/virtualenvs/faab-ECLAI4QK/lib/python3.9/site-packages/nest_asyncio.py:30\u001b[0m, in \u001b[0;36m_patch_asyncio.<locals>.run\u001b[0;34m(main, debug)\u001b[0m\n\u001b[1;32m     28\u001b[0m task \u001b[38;5;241m=\u001b[39m asyncio\u001b[38;5;241m.\u001b[39mensure_future(main)\n\u001b[1;32m     29\u001b[0m \u001b[38;5;28;01mtry\u001b[39;00m:\n\u001b[0;32m---> 30\u001b[0m     \u001b[38;5;28;01mreturn\u001b[39;00m \u001b[43mloop\u001b[49m\u001b[38;5;241;43m.\u001b[39;49m\u001b[43mrun_until_complete\u001b[49m\u001b[43m(\u001b[49m\u001b[43mtask\u001b[49m\u001b[43m)\u001b[49m\n\u001b[1;32m     31\u001b[0m \u001b[38;5;28;01mfinally\u001b[39;00m:\n\u001b[1;32m     32\u001b[0m     \u001b[38;5;28;01mif\u001b[39;00m \u001b[38;5;129;01mnot\u001b[39;00m task\u001b[38;5;241m.\u001b[39mdone():\n",
      "File \u001b[0;32m~/.local/share/virtualenvs/faab-ECLAI4QK/lib/python3.9/site-packages/nest_asyncio.py:92\u001b[0m, in \u001b[0;36m_patch_loop.<locals>.run_until_complete\u001b[0;34m(self, future)\u001b[0m\n\u001b[1;32m     90\u001b[0m     f\u001b[38;5;241m.\u001b[39m_log_destroy_pending \u001b[38;5;241m=\u001b[39m \u001b[38;5;28;01mFalse\u001b[39;00m\n\u001b[1;32m     91\u001b[0m \u001b[38;5;28;01mwhile\u001b[39;00m \u001b[38;5;129;01mnot\u001b[39;00m f\u001b[38;5;241m.\u001b[39mdone():\n\u001b[0;32m---> 92\u001b[0m     \u001b[38;5;28;43mself\u001b[39;49m\u001b[38;5;241;43m.\u001b[39;49m\u001b[43m_run_once\u001b[49m\u001b[43m(\u001b[49m\u001b[43m)\u001b[49m\n\u001b[1;32m     93\u001b[0m     \u001b[38;5;28;01mif\u001b[39;00m \u001b[38;5;28mself\u001b[39m\u001b[38;5;241m.\u001b[39m_stopping:\n\u001b[1;32m     94\u001b[0m         \u001b[38;5;28;01mbreak\u001b[39;00m\n",
      "File \u001b[0;32m~/.local/share/virtualenvs/faab-ECLAI4QK/lib/python3.9/site-packages/nest_asyncio.py:115\u001b[0m, in \u001b[0;36m_patch_loop.<locals>._run_once\u001b[0;34m(self)\u001b[0m\n\u001b[1;32m    108\u001b[0m     heappop(scheduled)\n\u001b[1;32m    110\u001b[0m timeout \u001b[38;5;241m=\u001b[39m (\n\u001b[1;32m    111\u001b[0m     \u001b[38;5;241m0\u001b[39m \u001b[38;5;28;01mif\u001b[39;00m ready \u001b[38;5;129;01mor\u001b[39;00m \u001b[38;5;28mself\u001b[39m\u001b[38;5;241m.\u001b[39m_stopping\n\u001b[1;32m    112\u001b[0m     \u001b[38;5;28;01melse\u001b[39;00m \u001b[38;5;28mmin\u001b[39m(\u001b[38;5;28mmax\u001b[39m(\n\u001b[1;32m    113\u001b[0m         scheduled[\u001b[38;5;241m0\u001b[39m]\u001b[38;5;241m.\u001b[39m_when \u001b[38;5;241m-\u001b[39m \u001b[38;5;28mself\u001b[39m\u001b[38;5;241m.\u001b[39mtime(), \u001b[38;5;241m0\u001b[39m), \u001b[38;5;241m86400\u001b[39m) \u001b[38;5;28;01mif\u001b[39;00m scheduled\n\u001b[1;32m    114\u001b[0m     \u001b[38;5;28;01melse\u001b[39;00m \u001b[38;5;28;01mNone\u001b[39;00m)\n\u001b[0;32m--> 115\u001b[0m event_list \u001b[38;5;241m=\u001b[39m \u001b[38;5;28;43mself\u001b[39;49m\u001b[38;5;241;43m.\u001b[39;49m\u001b[43m_selector\u001b[49m\u001b[38;5;241;43m.\u001b[39;49m\u001b[43mselect\u001b[49m\u001b[43m(\u001b[49m\u001b[43mtimeout\u001b[49m\u001b[43m)\u001b[49m\n\u001b[1;32m    116\u001b[0m \u001b[38;5;28mself\u001b[39m\u001b[38;5;241m.\u001b[39m_process_events(event_list)\n\u001b[1;32m    118\u001b[0m end_time \u001b[38;5;241m=\u001b[39m \u001b[38;5;28mself\u001b[39m\u001b[38;5;241m.\u001b[39mtime() \u001b[38;5;241m+\u001b[39m \u001b[38;5;28mself\u001b[39m\u001b[38;5;241m.\u001b[39m_clock_resolution\n",
      "File \u001b[0;32m~/miniconda3/lib/python3.9/selectors.py:562\u001b[0m, in \u001b[0;36mKqueueSelector.select\u001b[0;34m(self, timeout)\u001b[0m\n\u001b[1;32m    560\u001b[0m ready \u001b[38;5;241m=\u001b[39m []\n\u001b[1;32m    561\u001b[0m \u001b[38;5;28;01mtry\u001b[39;00m:\n\u001b[0;32m--> 562\u001b[0m     kev_list \u001b[38;5;241m=\u001b[39m \u001b[38;5;28;43mself\u001b[39;49m\u001b[38;5;241;43m.\u001b[39;49m\u001b[43m_selector\u001b[49m\u001b[38;5;241;43m.\u001b[39;49m\u001b[43mcontrol\u001b[49m\u001b[43m(\u001b[49m\u001b[38;5;28;43;01mNone\u001b[39;49;00m\u001b[43m,\u001b[49m\u001b[43m \u001b[49m\u001b[43mmax_ev\u001b[49m\u001b[43m,\u001b[49m\u001b[43m \u001b[49m\u001b[43mtimeout\u001b[49m\u001b[43m)\u001b[49m\n\u001b[1;32m    563\u001b[0m \u001b[38;5;28;01mexcept\u001b[39;00m \u001b[38;5;167;01mInterruptedError\u001b[39;00m:\n\u001b[1;32m    564\u001b[0m     \u001b[38;5;28;01mreturn\u001b[39;00m ready\n",
      "\u001b[0;31mKeyboardInterrupt\u001b[0m: "
     ]
    }
   ],
   "source": [
    "vars = ['gFaabSensor_1', 'gFaabSensor_2', 'gFaabSensor_3', 'gFaabSensor_4', 'gFaabSensor_5', 'gFaabSensor_6', 'gFaabSensor_7', 'gFaabSensor_8']\n",
    "\n",
    "streamer = Streamer()\n",
    "streamer.connect()"
   ]
  },
  {
   "cell_type": "code",
   "execution_count": null,
   "metadata": {},
   "outputs": [],
   "source": [
    "cs = CallbackState(\n",
    "    seq_len=512,\n",
    "    num_models=20,\n",
    "    num_blocks_to_compute_avg=10,\n",
    "    num_blocks_to_compute_std=40,\n",
    "    filter=biquad.lowpass(sr=streamer.sample_rate, f=1, q=0.707),\n",
    "    num_of_iterations_in_this_model_check=20,\n",
    "    init_ratio_rising_threshold=2.5,\n",
    "    init_ratio_falling_threshold=1.3,\n",
    "    threshold_leak=0.1,\n",
    "    trigger_width=25,\n",
    "    trigger_idx=4,\n",
    "    running_norm=True,\n",
    "    permute_out=False,\n",
    "    path=\"models/trained\"\n",
    ")"
   ]
  },
  {
   "cell_type": "code",
   "execution_count": null,
   "metadata": {},
   "outputs": [],
   "source": [
    "streamer.start_streaming(vars, on_block_callback=callback, callback_args=(cs,streamer))"
   ]
  },
  {
   "cell_type": "code",
   "execution_count": null,
   "metadata": {},
   "outputs": [],
   "source": [
    "streamer.stop_streaming()"
   ]
  },
  {
   "cell_type": "code",
   "execution_count": null,
   "metadata": {},
   "outputs": [],
   "source": [
    "# Create sliders using values from 'gain' list\n",
    "gain_sliders = [widgets.FloatSlider(value=gain[i], min=0.0, max=2.0, step=0.01, description=f'Gain {i+1}') for i in range(len(gain))]\n",
    "\n",
    "# Update function to adjust gain parameters\n",
    "def update_gain(change):\n",
    "    global gain\n",
    "    gain = [slider.value for slider in gain_sliders]\n",
    "    # Optional: Call a function here to apply the new gain values immediately\n",
    "\n",
    "# Display widgets and link them to the update function\n",
    "slider_box = widgets.VBox([widgets.Label('Adjust Gain Parameters:')] + gain_sliders)"
   ]
  },
  {
   "cell_type": "code",
   "execution_count": null,
   "metadata": {},
   "outputs": [],
   "source": [
    "display(slider_box)\n",
    "\n",
    "for slider in gain_sliders:\n",
    "    slider.observe(update_gain, names='value')"
   ]
  },
  {
   "cell_type": "markdown",
   "metadata": {},
   "source": [
    "# plot"
   ]
  },
  {
   "cell_type": "code",
   "execution_count": null,
   "metadata": {},
   "outputs": [],
   "source": [
    "import os\n",
    "import bokeh\n",
    "import bokeh.plotting\n",
    "import bokeh.io\n",
    "import bokeh.driving\n",
    "from bokeh.resources import INLINE\n",
    "\n",
    "os.environ[\"BOKEH_ALLOW_WS_ORIGIN\"]=\"0j0t0jnmqu776ei6png0k89bho2qg0m6ia345511p3uleiqq2kep\""
   ]
  },
  {
   "cell_type": "code",
   "execution_count": null,
   "metadata": {},
   "outputs": [],
   "source": [
    "streamer.start_streaming(variables=[\"gFaabSensor_1\", \"gFaabSensor_2\"])"
   ]
  },
  {
   "cell_type": "code",
   "execution_count": null,
   "metadata": {},
   "outputs": [],
   "source": [
    "streamer.plot_data(x_var=\"gFaabSensor_1\", y_vars=[\"gFaabSensor_1\", \"gFaabSensor_2\"], y_range=[0, 1], rollover=10000)"
   ]
  },
  {
   "cell_type": "code",
   "execution_count": null,
   "metadata": {},
   "outputs": [],
   "source": [
    "plot_data = {\n",
    "    \n",
    "    \"out_1\": {\"timestamps\": [0,1,2], \"data\" : [0.1, 0.2, 0.3]},\n",
    "    \"out_2\": {\"timestamps\": [0,1,2], \"data\" : [0.1, 0.2, 0.3]},\n",
    "}"
   ]
  },
  {
   "cell_type": "code",
   "execution_count": null,
   "metadata": {},
   "outputs": [],
   "source": [
    "from itertools import cycle\n",
    "import asyncio\n",
    "\n",
    "def _bokeh_plot_data_app(\n",
    "                            data,\n",
    "                            x_var,\n",
    "                            y_vars,\n",
    "                            y_range=None,\n",
    "                            rollover=None,\n",
    "                            plot_update_delay=90):\n",
    "\n",
    "    def _app(doc):\n",
    "        # Instantiate figures\n",
    "        p = bokeh.plotting.figure(\n",
    "            frame_width=500,\n",
    "            frame_height=175,\n",
    "            x_axis_label=\"timestamps\",\n",
    "            y_axis_label=\"value\",\n",
    "        )\n",
    "\n",
    "        if y_range is not None:\n",
    "            p.y_range = bokeh.models.Range1d(y_range[0], y_range[1])\n",
    "\n",
    "        # No padding on x_range makes data flush with end of plot\n",
    "        p.x_range.range_padding = 0\n",
    "\n",
    "        # Create a dictionary to store ColumnDataSource instances for each y_var\n",
    "        template = {\"timestamps\": [], **{var: [] for var in data}}\n",
    "        source = bokeh.models.ColumnDataSource(template)\n",
    "\n",
    "        # # Create line glyphs for each y_var\n",
    "        colors = cycle([\n",
    "            \"#1f77b4\", \"#ff7f0e\", \"#2ca02c\", \"#d62728\",\n",
    "            \"#9467bd\", \"#8c564b\", \"#e377c2\", \"#7f7f7f\",\n",
    "            \"#bcbd22\", \"#17becf\", \"#1a55FF\", \"#FF1A1A\"\n",
    "        ])\n",
    "        for y_var in y_vars:\n",
    "            p.line(source=source, x=\"timestamps\",\n",
    "                    y=y_var, line_color=next(colors), legend_label=y_var)\n",
    "\n",
    "        @bokeh.driving.linear()\n",
    "        def update(step):\n",
    "            # Update plot by streaming in data\n",
    "            new_data = {\"timestamps\": [\n",
    "                data[x_var][\"timestamp\"]]if \"timestamp\" in data[x_var] else data[x_var][\"timestamps\"]}\n",
    "            for y_var in y_vars:\n",
    "                new_data[y_var] = data[y_var][\"data\"] if isinstance(\n",
    "                    data[y_var][\"data\"], list) else [data[y_var][\"data\"]]\n",
    "            source.stream(new_data, rollover)\n",
    "\n",
    "        doc.add_root(p)\n",
    "        doc.add_periodic_callback(update, plot_update_delay)\n",
    "    return _app\n",
    "\n",
    "def plot_data( x_var, y_vars, y_range=None, plot_update_delay=100, rollover=500):\n",
    "\n",
    "    # wait until streaming buffers have been populated\n",
    "    async def wait_for_streaming_buffers_to_arrive():\n",
    "        while not all(data['data'] for data in {\n",
    "                var: _buffer for var, _buffer in last_streamed_buffer.items() if var in y_vars}.values()):\n",
    "            await asyncio.sleep(0.1)\n",
    "    asyncio.run(wait_for_streaming_buffers_to_arrive())\n",
    "\n",
    "    bokeh.io.output_notebook(INLINE)\n",
    "    bokeh.io.show(_bokeh_plot_data_app(data={\n",
    "        var: _buffer for var, _buffer in last_streamed_buffer.items() if var in y_vars}, x_var=x_var,\n",
    "        y_vars=y_vars, y_range=y_range, plot_update_delay=plot_update_delay, rollover=rollover))\n"
   ]
  },
  {
   "cell_type": "code",
   "execution_count": null,
   "metadata": {},
   "outputs": [],
   "source": [
    "plot_data(x_var=\"gFaabSensor_1\", y_vars=[\"gFaabSensor_1\", \"gFaabSensor_2\"], y_range=[0, 1], rollover=10000)"
   ]
  },
  {
   "cell_type": "code",
   "execution_count": null,
   "metadata": {},
   "outputs": [],
   "source": [
    "streamer.stop_streaming()"
   ]
  }
 ],
 "metadata": {
  "kernelspec": {
   "display_name": "faab-ECLAI4QK",
   "language": "python",
   "name": "python3"
  },
  "language_info": {
   "codemirror_mode": {
    "name": "ipython",
    "version": 3
   },
   "file_extension": ".py",
   "mimetype": "text/x-python",
   "name": "python",
   "nbconvert_exporter": "python",
   "pygments_lexer": "ipython3",
   "version": "3.9.19"
  }
 },
 "nbformat": 4,
 "nbformat_minor": 2
}
